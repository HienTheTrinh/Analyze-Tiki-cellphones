{
 "cells": [
  {
   "cell_type": "code",
   "execution_count": 1,
   "metadata": {},
   "outputs": [],
   "source": [
    "import pandas as pd"
   ]
  },
  {
   "cell_type": "code",
   "execution_count": 2,
   "metadata": {},
   "outputs": [],
   "source": [
    "pro = pd.read_csv('data/product.csv')\n",
    "com = pd.read_csv('data/comments.csv')"
   ]
  },
  {
   "cell_type": "markdown",
   "metadata": {},
   "source": [
    "# Check for duplicate rows"
   ]
  },
  {
   "cell_type": "code",
   "execution_count": 3,
   "metadata": {},
   "outputs": [
    {
     "name": "stdout",
     "output_type": "stream",
     "text": [
      "Product data without removing duplicates: (1051, 18)\n",
      "Product data removing duplicates: (1036, 18)\n",
      "Comments data without removing duplicates: (3236, 14)\n",
      "Comments data removing duplicates: (3128, 14)\n"
     ]
    }
   ],
   "source": [
    "print(f'Product data without removing duplicates: {pro.shape}')\n",
    "print(f'Product data removing duplicates: {pro.drop_duplicates().shape}')\n",
    "\n",
    "print(f'Comments data without removing duplicates: {com.shape}')\n",
    "print(f'Comments data removing duplicates: {com.drop_duplicates().shape}')"
   ]
  },
  {
   "cell_type": "code",
   "execution_count": 4,
   "metadata": {},
   "outputs": [],
   "source": [
    "pro.drop_duplicates(inplace=True)\n",
    "com.drop_duplicates(inplace=True)"
   ]
  },
  {
   "cell_type": "markdown",
   "metadata": {},
   "source": [
    "# Check null data"
   ]
  },
  {
   "cell_type": "code",
   "execution_count": 5,
   "metadata": {},
   "outputs": [
    {
     "data": {
      "text/plain": [
       "product_id                 0\n",
       "sku                        1\n",
       "product_name               1\n",
       "brand_name                 1\n",
       "categories                 1\n",
       "current_seller             1\n",
       "warranty_time              1\n",
       "quantity_sold              1\n",
       "rating_average             1\n",
       "review_count               1\n",
       "price                      1\n",
       "original_price             1\n",
       "discount                   1\n",
       "discount_rate              1\n",
       "stock_item_qty             1\n",
       "stock_item_max_sale_qty    1\n",
       "short_description          1\n",
       "link                       1\n",
       "dtype: int64"
      ]
     },
     "execution_count": 5,
     "metadata": {},
     "output_type": "execute_result"
    }
   ],
   "source": [
    "pro.isna().sum()"
   ]
  },
  {
   "cell_type": "code",
   "execution_count": 6,
   "metadata": {},
   "outputs": [],
   "source": [
    "pro.dropna(inplace=True)"
   ]
  },
  {
   "cell_type": "code",
   "execution_count": 7,
   "metadata": {},
   "outputs": [
    {
     "data": {
      "text/plain": [
       "product_id              0\n",
       "customer_id             0\n",
       "customer_region      3128\n",
       "customer_evaluate       0\n",
       "content               917\n",
       "like_count              0\n",
       "rating                  0\n",
       "score                   0\n",
       "created_at              0\n",
       "rating_1_stars          0\n",
       "rating_2_stars          0\n",
       "rating_3_stars          0\n",
       "rating_4_stars          0\n",
       "rating_5_stars          0\n",
       "dtype: int64"
      ]
     },
     "execution_count": 7,
     "metadata": {},
     "output_type": "execute_result"
    }
   ],
   "source": [
    "com.isnull().sum()"
   ]
  },
  {
   "cell_type": "code",
   "execution_count": 8,
   "metadata": {},
   "outputs": [],
   "source": [
    "com['content'] = com['content'].fillna(\"No content\")\n",
    "com.drop(columns=['customer_region'], inplace=True)"
   ]
  },
  {
   "cell_type": "markdown",
   "metadata": {},
   "source": [
    "# Product data"
   ]
  },
  {
   "cell_type": "markdown",
   "metadata": {},
   "source": [
    "## Fix categories"
   ]
  },
  {
   "cell_type": "code",
   "execution_count": 9,
   "metadata": {},
   "outputs": [
    {
     "data": {
      "text/plain": [
       "categories\n",
       "Điện thoại Smartphone         608\n",
       "Điện thoại phổ thông          136\n",
       "Điện thoại bàn                105\n",
       "Máy tính bảng                  83\n",
       "Máy đọc sách                   50\n",
       "Điện Thoại - Máy Tính Bảng     38\n",
       "Root                           14\n",
       "Bao Tập - Bao Sách              1\n",
       "Name: count, dtype: int64"
      ]
     },
     "execution_count": 9,
     "metadata": {},
     "output_type": "execute_result"
    }
   ],
   "source": [
    "pro['categories'].value_counts()"
   ]
  },
  {
   "cell_type": "code",
   "execution_count": 10,
   "metadata": {},
   "outputs": [
    {
     "data": {
      "text/plain": [
       "categories\n",
       "Điện thoại Smartphone    608\n",
       "Điện thoại phổ thông     136\n",
       "Điện thoại bàn           105\n",
       "Máy tính bảng             83\n",
       "Máy đọc sách              50\n",
       "Root                      14\n",
       "Name: count, dtype: int64"
      ]
     },
     "execution_count": 10,
     "metadata": {},
     "output_type": "execute_result"
    }
   ],
   "source": [
    "pro = pro.drop(index=pro[pro['categories']=='Bao Tập - Bao Sách'].index)\n",
    "pro = pro.drop(index=pro[pro['categories']=='Điện Thoại - Máy Tính Bảng'].index)\n",
    "pro['categories'].value_counts()"
   ]
  },
  {
   "cell_type": "markdown",
   "metadata": {},
   "source": [
    "## Fix warranty time info"
   ]
  },
  {
   "cell_type": "code",
   "execution_count": 11,
   "metadata": {},
   "outputs": [
    {
     "data": {
      "text/plain": [
       "warranty_time\n",
       "12 Tháng                   574\n",
       "1 Năm                      266\n",
       "Xem chi tiết                50\n",
       "18 Tháng                    47\n",
       "Unknown                     20\n",
       "13 Tháng                    13\n",
       "6 Tháng                     12\n",
       "12 tháng                     4\n",
       "3 Tháng                      2\n",
       "1 Tháng                      2\n",
       "18 Ngày                      1\n",
       "120 Ngày                     1\n",
       "2 Tháng                      1\n",
       "5 Tháng                      1\n",
       "BH 12 tháng bằng thẻ BH      1\n",
       "24 Tháng                     1\n",
       "Name: count, dtype: int64"
      ]
     },
     "execution_count": 11,
     "metadata": {},
     "output_type": "execute_result"
    }
   ],
   "source": [
    "pro['warranty_time'].value_counts()"
   ]
  },
  {
   "cell_type": "code",
   "execution_count": 12,
   "metadata": {},
   "outputs": [],
   "source": [
    "def warranty_fix(x):\n",
    "    if not str(x).split(' ')[0].isnumeric():\n",
    "        return 'Unavailable'\n",
    "    if x.split(' ')[1].lower()=='năm':\n",
    "        return f\"{int(x.split(' ')[0])*12} Tháng\"\n",
    "    elif x.split(' ')[1].lower()==\"ngày\":\n",
    "        return f\"{int(x.split(' ')[0]) // 30} Tháng\"\n",
    "    elif x.split(' ')[1].lower()==\"tháng\":\n",
    "        return f\"{x.split(' ')[0]} Tháng\""
   ]
  },
  {
   "cell_type": "code",
   "execution_count": 13,
   "metadata": {},
   "outputs": [
    {
     "data": {
      "text/plain": [
       "warranty_time\n",
       "12 Tháng       844\n",
       "Unavailable     71\n",
       "18 Tháng        47\n",
       "13 Tháng        13\n",
       "6 Tháng         12\n",
       "3 Tháng          2\n",
       "1 Tháng          2\n",
       "0 Tháng          1\n",
       "4 Tháng          1\n",
       "2 Tháng          1\n",
       "5 Tháng          1\n",
       "24 Tháng         1\n",
       "Name: count, dtype: int64"
      ]
     },
     "execution_count": 13,
     "metadata": {},
     "output_type": "execute_result"
    }
   ],
   "source": [
    "pro['warranty_time'] = pro['warranty_time'].apply(warranty_fix)\n",
    "pro['warranty_time'].value_counts()"
   ]
  },
  {
   "cell_type": "code",
   "execution_count": 14,
   "metadata": {},
   "outputs": [],
   "source": [
    "pro.to_csv('final_data/product.csv', index=False)\n",
    "com.to_csv('final_data/comments.csv', index=False)"
   ]
  }
 ],
 "metadata": {
  "kernelspec": {
   "display_name": "base",
   "language": "python",
   "name": "python3"
  },
  "language_info": {
   "codemirror_mode": {
    "name": "ipython",
    "version": 3
   },
   "file_extension": ".py",
   "mimetype": "text/x-python",
   "name": "python",
   "nbconvert_exporter": "python",
   "pygments_lexer": "ipython3",
   "version": "0.0.0"
  },
  "orig_nbformat": 4
 },
 "nbformat": 4,
 "nbformat_minor": 2
}
